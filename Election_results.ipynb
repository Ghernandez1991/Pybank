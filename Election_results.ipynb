{
 "cells": [
  {
   "cell_type": "code",
   "execution_count": 1,
   "metadata": {},
   "outputs": [],
   "source": [
    "import pandas as pd"
   ]
  },
  {
   "cell_type": "code",
   "execution_count": 2,
   "metadata": {},
   "outputs": [],
   "source": [
    "election_results = \"election_data.csv\"\n",
    "election_results_df = pd.read_csv(election_results)"
   ]
  },
  {
   "cell_type": "code",
   "execution_count": 3,
   "metadata": {},
   "outputs": [
    {
     "data": {
      "text/html": [
       "<div>\n",
       "<style scoped>\n",
       "    .dataframe tbody tr th:only-of-type {\n",
       "        vertical-align: middle;\n",
       "    }\n",
       "\n",
       "    .dataframe tbody tr th {\n",
       "        vertical-align: top;\n",
       "    }\n",
       "\n",
       "    .dataframe thead th {\n",
       "        text-align: right;\n",
       "    }\n",
       "</style>\n",
       "<table border=\"1\" class=\"dataframe\">\n",
       "  <thead>\n",
       "    <tr style=\"text-align: right;\">\n",
       "      <th></th>\n",
       "      <th>Voter ID</th>\n",
       "      <th>County</th>\n",
       "      <th>Candidate</th>\n",
       "    </tr>\n",
       "  </thead>\n",
       "  <tbody>\n",
       "    <tr>\n",
       "      <th>0</th>\n",
       "      <td>12864552</td>\n",
       "      <td>Marsh</td>\n",
       "      <td>Khan</td>\n",
       "    </tr>\n",
       "    <tr>\n",
       "      <th>1</th>\n",
       "      <td>17444633</td>\n",
       "      <td>Marsh</td>\n",
       "      <td>Correy</td>\n",
       "    </tr>\n",
       "    <tr>\n",
       "      <th>2</th>\n",
       "      <td>19330107</td>\n",
       "      <td>Marsh</td>\n",
       "      <td>Khan</td>\n",
       "    </tr>\n",
       "    <tr>\n",
       "      <th>3</th>\n",
       "      <td>19865775</td>\n",
       "      <td>Queen</td>\n",
       "      <td>Khan</td>\n",
       "    </tr>\n",
       "    <tr>\n",
       "      <th>4</th>\n",
       "      <td>11927875</td>\n",
       "      <td>Marsh</td>\n",
       "      <td>Khan</td>\n",
       "    </tr>\n",
       "  </tbody>\n",
       "</table>\n",
       "</div>"
      ],
      "text/plain": [
       "   Voter ID County Candidate\n",
       "0  12864552  Marsh      Khan\n",
       "1  17444633  Marsh    Correy\n",
       "2  19330107  Marsh      Khan\n",
       "3  19865775  Queen      Khan\n",
       "4  11927875  Marsh      Khan"
      ]
     },
     "execution_count": 3,
     "metadata": {},
     "output_type": "execute_result"
    }
   ],
   "source": [
    "election_results_df.head()"
   ]
  },
  {
   "cell_type": "code",
   "execution_count": 43,
   "metadata": {},
   "outputs": [
    {
     "name": "stdout",
     "output_type": "stream",
     "text": [
      "Election Results:\n",
      "---------------------------\n",
      "Total number of votes 3521001\n",
      "---------------------------------\n",
      "Vote Totals per Candidate\n",
      "Khan: 2218231\n",
      "O'Tooley: 105630\n",
      "Correy: 704200\n",
      "Li: 492940\n",
      "---------------------------------\n",
      "Election Percentages\n",
      "Winner: Khan\n"
     ]
    },
    {
     "data": {
      "text/plain": [
       "Khan        0.63\n",
       "Correy      0.20\n",
       "Li          0.14\n",
       "O'Tooley    0.03\n",
       "Name: Candidate, dtype: float64"
      ]
     },
     "execution_count": 43,
     "metadata": {},
     "output_type": "execute_result"
    }
   ],
   "source": [
    "print(\"Election Results:\")\n",
    "print(\"---------------------------\")\n",
    "count_row = election_results_df.shape[0]\n",
    "print(\"Total number of votes\",count_row)\n",
    "\n",
    "print(\"---------------------------------\")\n",
    "\n",
    "print(\"Vote Totals per Candidate\")\n",
    "\n",
    "\n",
    "election_results_df.Candidate.str.count(\"Khan\")\n",
    "election_results_df.Candidate.str.count(\"O'Tooley\")\n",
    "election_results_df.Candidate.str.count(\"Correy\")\n",
    "election_results_df.Candidate.str.count(\"Li\")\n",
    "\n",
    "print(\"Khan:\", election_results_df.Candidate.str.count(\"Khan\").sum())\n",
    "print(\"O'Tooley:\", election_results_df.Candidate.str.count(\"O'Tooley\").sum())\n",
    "print(\"Correy:\", election_results_df.Candidate.str.count(\"Correy\").sum())\n",
    "print(\"Li:\", election_results_df.Candidate.str.count(\"Li\").sum())\n",
    "\n",
    "print(\"---------------------------------\")\n",
    "\n",
    "print(\"Election Percentages\")\n",
    "print(\"Winner: Khan\")\n",
    "election_results_df['Candidate'].value_counts(\"Khan\")\n",
    "\n",
    "\n",
    "\n",
    "\n",
    "\n",
    "\n",
    "\n",
    "\n",
    "\n"
   ]
  },
  {
   "cell_type": "code",
   "execution_count": null,
   "metadata": {},
   "outputs": [],
   "source": []
  }
 ],
 "metadata": {
  "kernelspec": {
   "display_name": "Python 3",
   "language": "python",
   "name": "python3"
  },
  "language_info": {
   "codemirror_mode": {
    "name": "ipython",
    "version": 3
   },
   "file_extension": ".py",
   "mimetype": "text/x-python",
   "name": "python",
   "nbconvert_exporter": "python",
   "pygments_lexer": "ipython3",
   "version": "3.7.3"
  }
 },
 "nbformat": 4,
 "nbformat_minor": 2
}
